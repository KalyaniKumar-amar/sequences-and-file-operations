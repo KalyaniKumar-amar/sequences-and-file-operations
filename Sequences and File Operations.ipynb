{
 "cells": [
  {
   "cell_type": "code",
   "execution_count": 3,
   "id": "f0f9ee36-a3e7-4f23-87c3-81309e8700a2",
   "metadata": {
    "scrolled": true
   },
   "outputs": [
    {
     "name": "stdin",
     "output_type": "stream",
     "text": [
      "Enter a number:  952\n"
     ]
    },
    {
     "name": "stdout",
     "output_type": "stream",
     "text": [
      "Factors of 952 and their nature (even/odd):\n",
      "1 is Odd\n",
      "2 is Even\n",
      "4 is Even\n",
      "7 is Odd\n",
      "8 is Even\n",
      "14 is Even\n",
      "17 is Odd\n",
      "28 is Even\n",
      "34 is Even\n",
      "56 is Even\n",
      "68 is Even\n",
      "119 is Odd\n",
      "136 is Even\n",
      "238 is Even\n",
      "476 is Even\n",
      "952 is Even\n"
     ]
    }
   ],
   "source": [
    "# Program to find factors and check if they're even or odd\n",
    "num = int(input(\"Enter a number: \"))\n",
    "print(f\"Factors of {num} and their nature (even/odd):\")\n",
    "for i in range(1, num + 1):\n",
    "    if num % i == 0:\n",
    "        if i % 2 == 0:\n",
    "            print(f\"{i} is Even\")\n",
    "        else:\n",
    "            print(f\"{i} is Odd\")\n"
   ]
  },
  {
   "cell_type": "code",
   "execution_count": 7,
   "id": "a932b6a7-ce26-4000-bffc-2384c821ef77",
   "metadata": {
    "scrolled": true
   },
   "outputs": [
    {
     "name": "stdin",
     "output_type": "stream",
     "text": [
      "Enter a sequence of words separated by spaces:  hello, world ,hello, python\n"
     ]
    },
    {
     "name": "stdout",
     "output_type": "stream",
     "text": [
      "Sorted words: ,hello, hello, python world\n"
     ]
    }
   ],
   "source": [
    "# Program to sort words alphabetically\n",
    "words = input(\"Enter a sequence of words separated by spaces: \")\n",
    "word_list = words.split()  # Split input into a list of words\n",
    "word_list.sort()  # Sort the list alphabetically\n",
    "print(\"Sorted words:\", \" \".join(word_list))"
   ]
  },
  {
   "cell_type": "code",
   "execution_count": 9,
   "id": "499231a6-c6bc-4ef2-93a8-c4718ac30627",
   "metadata": {
    "scrolled": true
   },
   "outputs": [
    {
     "name": "stdout",
     "output_type": "stream",
     "text": [
      "Numbers with all even digits: 2000, 2002, 2004, 2006, 2008, 2020, 2022, 2024, 2026, 2028, 2040, 2042, 2044, 2046, 2048, 2060, 2062, 2064, 2066, 2068, 2080, 2082, 2084, 2086, 2088, 2200, 2202, 2204, 2206, 2208, 2220, 2222, 2224, 2226, 2228, 2240, 2242, 2244, 2246, 2248, 2260, 2262, 2264, 2266, 2268, 2280, 2282, 2284, 2286, 2288, 2400, 2402, 2404, 2406, 2408, 2420, 2422, 2424, 2426, 2428, 2440, 2442, 2444, 2446, 2448, 2460, 2462, 2464, 2466, 2468, 2480, 2482, 2484, 2486, 2488, 2600, 2602, 2604, 2606, 2608, 2620, 2622, 2624, 2626, 2628, 2640, 2642, 2644, 2646, 2648, 2660, 2662, 2664, 2666, 2668, 2680, 2682, 2684, 2686, 2688, 2800, 2802, 2804, 2806, 2808, 2820, 2822, 2824, 2826, 2828, 2840, 2842, 2844, 2846, 2848, 2860, 2862, 2864, 2866, 2868, 2880, 2882, 2884, 2886, 2888\n"
     ]
    }
   ],
   "source": [
    "# Program to find numbers with all even digits\n",
    "results = []\n",
    "for num in range(1000, 3001):\n",
    "    if all(int(digit) % 2 == 0 for digit in str(num)):  # Check each digit\n",
    "        results.append(str(num))\n",
    "print(\"Numbers with all even digits:\", \", \".join(results))\n"
   ]
  },
  {
   "cell_type": "code",
   "execution_count": 11,
   "id": "2dd7ecb0-6f7b-4c50-a3e3-fb05f047c14b",
   "metadata": {
    "scrolled": true
   },
   "outputs": [
    {
     "name": "stdin",
     "output_type": "stream",
     "text": [
      "Enter a sentence:  Hello, 235, world\n"
     ]
    },
    {
     "name": "stdout",
     "output_type": "stream",
     "text": [
      "LETTERS: 10\n",
      "DIGITS: 3\n"
     ]
    }
   ],
   "source": [
    "# Program to count letters and digits\n",
    "sentence = input(\"Enter a sentence: \")\n",
    "letters = sum(char.isalpha() for char in sentence)\n",
    "digits = sum(char.isdigit() for char in sentence)\n",
    "print(f\"LETTERS: {letters}\")\n",
    "print(f\"DIGITS: {digits}\")"
   ]
  },
  {
   "cell_type": "code",
   "execution_count": 13,
   "id": "31fe7b61-f606-4579-b0ac-ac2fdf373e73",
   "metadata": {
    "scrolled": true
   },
   "outputs": [
    {
     "name": "stdin",
     "output_type": "stream",
     "text": [
      "Enter a number:  425\n"
     ]
    },
    {
     "name": "stdout",
     "output_type": "stream",
     "text": [
      "425 is NOT a Palindrome number.\n"
     ]
    }
   ],
   "source": [
    "# Program to check if a number is a palindrome\n",
    "num = input(\"Enter a number: \")\n",
    "if num == num[::-1]:  # Check if string reversed is the same as original\n",
    "    print(f\"{num} is a Palindrome number.\")\n",
    "else:\n",
    "    print(f\"{num} is NOT a Palindrome number.\")\n"
   ]
  },
  {
   "cell_type": "code",
   "execution_count": null,
   "id": "51ce6bc5-538b-43c2-9593-81b588f4b2dd",
   "metadata": {},
   "outputs": [],
   "source": []
  }
 ],
 "metadata": {
  "kernelspec": {
   "display_name": "Python 3 (ipykernel)",
   "language": "python",
   "name": "python3"
  },
  "language_info": {
   "codemirror_mode": {
    "name": "ipython",
    "version": 3
   },
   "file_extension": ".py",
   "mimetype": "text/x-python",
   "name": "python",
   "nbconvert_exporter": "python",
   "pygments_lexer": "ipython3",
   "version": "3.12.4"
  }
 },
 "nbformat": 4,
 "nbformat_minor": 5
}
